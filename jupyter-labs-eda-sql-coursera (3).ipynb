{
 "cells": [
  {
   "cell_type": "markdown",
   "metadata": {},
   "source": [
    "<center>\n",
    "    <img src=\"https://gitlab.com/ibm/skills-network/courses/placeholder101/-/raw/master/labs/module%201/images/IDSNlogo.png\"  width=\"300\" alt=\"cognitiveclass.ai logo\"  />\n",
    "</center>\n",
    "\n",
    "<h1 align=center><font size = 5>Assignment: SQL Notebook for Peer Assignment</font></h1>\n",
    "\n",
    "Estimated time needed: **60** minutes.\n",
    "\n",
    "## Introduction\n",
    "\n",
    "Using this Python notebook you will:\n",
    "\n",
    "1.  Understand the Spacex DataSet\n",
    "2.  Load the dataset  into the corresponding table in a Db2 database\n",
    "3.  Execute SQL queries to answer assignment questions\n"
   ]
  },
  {
   "cell_type": "code",
   "execution_count": 3,
   "metadata": {},
   "outputs": [],
   "source": [
    "import sqlite3\n",
    "import pandas as pd"
   ]
  },
  {
   "cell_type": "code",
   "execution_count": 4,
   "metadata": {},
   "outputs": [],
   "source": [
    "connection = sqlite3.connect(\"SPACEXTBL.db\")"
   ]
  },
  {
   "cell_type": "code",
   "execution_count": 5,
   "metadata": {},
   "outputs": [],
   "source": [
    "df = pd.read_csv('Spacex.csv')"
   ]
  },
  {
   "cell_type": "code",
   "execution_count": 6,
   "metadata": {},
   "outputs": [],
   "source": [
    "cursor = connection.cursor()"
   ]
  },
  {
   "cell_type": "code",
   "execution_count": 7,
   "metadata": {},
   "outputs": [
    {
     "name": "stderr",
     "output_type": "stream",
     "text": [
      "C:\\Users\\o5nuynn\\AppData\\Roaming\\Python\\Python38\\site-packages\\pandas\\core\\generic.py:2872: UserWarning: The spaces in these column names will not be changed. In pandas versions < 0.14, spaces were converted to underscores.\n",
      "  sql.to_sql(\n"
     ]
    }
   ],
   "source": [
    "df.to_sql('SPACEXTBL', connection, if_exists ='replace', index = False)"
   ]
  },
  {
   "cell_type": "code",
   "execution_count": 8,
   "metadata": {},
   "outputs": [
    {
     "data": {
      "text/plain": [
       "<sqlite3.Cursor at 0x294fb96cf10>"
      ]
     },
     "execution_count": 8,
     "metadata": {},
     "output_type": "execute_result"
    }
   ],
   "source": [
    "cursor.execute('select * from SPACEXTBL')"
   ]
  },
  {
   "cell_type": "code",
   "execution_count": 19,
   "metadata": {},
   "outputs": [],
   "source": [
    "records = cursor.fetchall()"
   ]
  },
  {
   "cell_type": "code",
   "execution_count": 22,
   "metadata": {},
   "outputs": [
    {
     "name": "stdout",
     "output_type": "stream",
     "text": [
      "('04-06-2010', '18:45:00', 'F9 v1.0  B0003', 'CCAFS LC-40', 'Dragon Spacecraft Qualification Unit', 0, 'LEO', 'SpaceX', 'Success', 'Failure (parachute)')\n",
      "('08-12-2010', '15:43:00', 'F9 v1.0  B0004', 'CCAFS LC-40', 'Dragon demo flight C1, two CubeSats, barrel of Brouere cheese', 0, 'LEO (ISS)', 'NASA (COTS) NRO', 'Success', 'Failure (parachute)')\n",
      "('22-05-2012', '07:44:00', 'F9 v1.0  B0005', 'CCAFS LC-40', 'Dragon demo flight C2', 525, 'LEO (ISS)', 'NASA (COTS)', 'Success', 'No attempt')\n",
      "('08-10-2012', '00:35:00', 'F9 v1.0  B0006', 'CCAFS LC-40', 'SpaceX CRS-1', 500, 'LEO (ISS)', 'NASA (CRS)', 'Success', 'No attempt')\n",
      "('01-03-2013', '15:10:00', 'F9 v1.0  B0007', 'CCAFS LC-40', 'SpaceX CRS-2', 677, 'LEO (ISS)', 'NASA (CRS)', 'Success', 'No attempt')\n",
      "('29-09-2013', '16:00:00', 'F9 v1.1  B1003', 'VAFB SLC-4E', 'CASSIOPE', 500, 'Polar LEO', 'MDA', 'Success', 'Uncontrolled (ocean)')\n",
      "('03-12-2013', '22:41:00', 'F9 v1.1', 'CCAFS LC-40', 'SES-8', 3170, 'GTO', 'SES', 'Success', 'No attempt')\n",
      "('06-01-2014', '22:06:00', 'F9 v1.1', 'CCAFS LC-40', 'Thaicom 6', 3325, 'GTO', 'Thaicom', 'Success', 'No attempt')\n",
      "('18-04-2014', '19:25:00', 'F9 v1.1', 'CCAFS LC-40', 'SpaceX CRS-3', 2296, 'LEO (ISS)', 'NASA (CRS)', 'Success', 'Controlled (ocean)')\n",
      "('14-07-2014', '15:15:00', 'F9 v1.1', 'CCAFS LC-40', 'OG2 Mission 1  6 Orbcomm-OG2 satellites', 1316, 'LEO', 'Orbcomm', 'Success', 'Controlled (ocean)')\n",
      "('05-08-2014', '08:00:00', 'F9 v1.1', 'CCAFS LC-40', 'AsiaSat 8', 4535, 'GTO', 'AsiaSat', 'Success', 'No attempt')\n",
      "('07-09-2014', '05:00:00', 'F9 v1.1 B1011', 'CCAFS LC-40', 'AsiaSat 6', 4428, 'GTO', 'AsiaSat', 'Success', 'No attempt')\n",
      "('21-09-2014', '05:52:00', 'F9 v1.1 B1010', 'CCAFS LC-40', 'SpaceX CRS-4', 2216, 'LEO (ISS)', 'NASA (CRS)', 'Success', 'Uncontrolled (ocean)')\n",
      "('10-01-2015', '09:47:00', 'F9 v1.1 B1012', 'CCAFS LC-40', 'SpaceX CRS-5', 2395, 'LEO (ISS)', 'NASA (CRS)', 'Success', 'Failure (drone ship)')\n",
      "('11-02-2015', '23:03:00', 'F9 v1.1 B1013', 'CCAFS LC-40', 'DSCOVR', 570, 'HEO', 'U.S. Air Force NASA NOAA', 'Success', 'Controlled (ocean)')\n",
      "('02-03-2015', '03:50:00', 'F9 v1.1 B1014', 'CCAFS LC-40', 'ABS-3A Eutelsat 115 West B', 4159, 'GTO', 'ABS Eutelsat', 'Success', 'No attempt')\n",
      "('14-04-2015', '20:10:00', 'F9 v1.1 B1015', 'CCAFS LC-40', 'SpaceX CRS-6', 1898, 'LEO (ISS)', 'NASA (CRS)', 'Success', 'Failure (drone ship)')\n",
      "('27-04-2015', '23:03:00', 'F9 v1.1 B1016', 'CCAFS LC-40', 'Turkmen 52 / MonacoSAT', 4707, 'GTO', 'Turkmenistan National Space Agency', 'Success', 'No attempt')\n",
      "('28-06-2015', '14:21:00', 'F9 v1.1 B1018', 'CCAFS LC-40', 'SpaceX CRS-7', 1952, 'LEO (ISS)', 'NASA (CRS)', 'Failure (in flight)', 'Precluded (drone ship)')\n",
      "('22-12-2015', '01:29:00', 'F9 FT B1019', 'CCAFS LC-40', 'OG2 Mission 2  11 Orbcomm-OG2 satellites', 2034, 'LEO', 'Orbcomm', 'Success', 'Success (ground pad)')\n",
      "('17-01-2016', '18:42:00', 'F9 v1.1 B1017', 'VAFB SLC-4E', 'Jason-3', 553, 'LEO', 'NASA (LSP) NOAA CNES', 'Success', 'Failure (drone ship)')\n",
      "('04-03-2016', '23:35:00', 'F9 FT B1020', 'CCAFS LC-40', 'SES-9', 5271, 'GTO', 'SES', 'Success', 'Failure (drone ship)')\n",
      "('08-04-2016', '20:43:00', 'F9 FT B1021.1', 'CCAFS LC-40', 'SpaceX CRS-8', 3136, 'LEO (ISS)', 'NASA (CRS)', 'Success', 'Success (drone ship)')\n",
      "('06-05-2016', '05:21:00', 'F9 FT B1022', 'CCAFS LC-40', 'JCSAT-14', 4696, 'GTO', 'SKY Perfect JSAT Group', 'Success', 'Success (drone ship)')\n",
      "('27-05-2016', '21:39:00', 'F9 FT B1023.1', 'CCAFS LC-40', 'Thaicom 8', 3100, 'GTO', 'Thaicom', 'Success', 'Success (drone ship)')\n",
      "('15-06-2016', '14:29:00', 'F9 FT B1024', 'CCAFS LC-40', 'ABS-2A Eutelsat 117 West B', 3600, 'GTO', 'ABS Eutelsat', 'Success', 'Failure (drone ship)')\n",
      "('18-07-2016', '04:45:00', 'F9 FT B1025.1', 'CCAFS LC-40', 'SpaceX CRS-9', 2257, 'LEO (ISS)', 'NASA (CRS)', 'Success', 'Success (ground pad)')\n",
      "('14-08-2016', '05:26:00', 'F9 FT B1026', 'CCAFS LC-40', 'JCSAT-16', 4600, 'GTO', 'SKY Perfect JSAT Group', 'Success', 'Success (drone ship)')\n",
      "('14-01-2017', '17:54:00', 'F9 FT B1029.1', 'VAFB SLC-4E', 'Iridium NEXT 1', 9600, 'Polar LEO', 'Iridium Communications', 'Success', 'Success (drone ship)')\n",
      "('19-02-2017', '14:39:00', 'F9 FT B1031.1', 'KSC LC-39A', 'SpaceX CRS-10', 2490, 'LEO (ISS)', 'NASA (CRS)', 'Success', 'Success (ground pad)')\n",
      "('16-03-2017', '06:00:00', 'F9 FT B1030', 'KSC LC-39A', 'EchoStar 23', 5600, 'GTO', 'EchoStar', 'Success', 'No attempt')\n",
      "('30-03-2017', '22:27:00', 'F9 FT  B1021.2', 'KSC LC-39A', 'SES-10', 5300, 'GTO', 'SES', 'Success', 'Success (drone ship)')\n",
      "('01-05-2017', '11:15:00', 'F9 FT B1032.1', 'KSC LC-39A', 'NROL-76', 5300, 'LEO', 'NRO', 'Success', 'Success (ground pad)')\n",
      "('15-05-2017', '23:21:00', 'F9 FT B1034', 'KSC LC-39A', 'Inmarsat-5 F4', 6070, 'GTO', 'Inmarsat', 'Success', 'No attempt')\n",
      "('03-06-2017', '21:07:00', 'F9 FT B1035.1', 'KSC LC-39A', 'SpaceX CRS-11', 2708, 'LEO (ISS)', 'NASA (CRS)', 'Success', 'Success (ground pad)')\n",
      "('23-06-2017', '19:10:00', 'F9 FT  B1029.2', 'KSC LC-39A', 'BulgariaSat-1', 3669, 'GTO', 'Bulsatcom', 'Success', 'Success (drone ship)')\n",
      "('25-06-2017', '20:25:00', 'F9 FT B1036.1', 'VAFB SLC-4E', 'Iridium NEXT 2', 9600, 'LEO', 'Iridium Communications', 'Success', 'Success (drone ship)')\n",
      "('05-07-2017', '23:38:00', 'F9 FT B1037', 'KSC LC-39A', 'Intelsat 35e', 6761, 'GTO', 'Intelsat', 'Success', 'No attempt')\n",
      "('14-08-2017', '16:31:00', 'F9 B4 B1039.1', 'KSC LC-39A', 'SpaceX CRS-12', 3310, 'LEO (ISS)', 'NASA (CRS)', 'Success', 'Success (ground pad)')\n",
      "('24-08-2017', '18:51:00', 'F9 FT B1038.1', 'VAFB SLC-4E', 'Formosat-5', 475, 'SSO', 'NSPO', 'Success', 'Success (drone ship)')\n",
      "('07-09-2017', '14:00:00', 'F9 B4 B1040.1', 'KSC LC-39A', 'Boeing X-37B OTV-5', 4990, 'LEO', 'U.S. Air Force', 'Success', 'Success (ground pad)')\n",
      "('09-10-2017', '12:37:00', 'F9 B4 B1041.1', 'VAFB SLC-4E', 'Iridium NEXT 3', 9600, 'Polar LEO', 'Iridium Communications', 'Success', 'Success (drone ship)')\n",
      "('11-10-2017', '22:53:00', 'F9 FT  B1031.2', 'KSC LC-39A', 'SES-11 / EchoStar 105', 5200, 'GTO', 'SES EchoStar', 'Success', 'Success (drone ship)')\n",
      "('30-10-2017', '19:34:00', 'F9 B4 B1042.1', 'KSC LC-39A', 'Koreasat 5A', 3500, 'GTO', 'KT Corporation', 'Success', 'Success (drone ship)')\n",
      "('15-12-2017', '15:36:00', 'F9 FT  B1035.2', 'CCAFS SLC-40', 'SpaceX CRS-13', 2205, 'LEO (ISS)', 'NASA (CRS)', 'Success', 'Success (ground pad)')\n",
      "('23-12-2017', '01:27:00', 'F9 FT  B1036.2', 'VAFB SLC-4E', 'Iridium NEXT 4', 9600, 'Polar LEO', 'Iridium Communications', 'Success', 'Controlled (ocean)')\n",
      "('08-01-2018', '01:00:00', 'F9 B4 B1043.1', 'CCAFS SLC-40', 'Zuma', 5000, 'LEO', 'Northrop Grumman', 'Success (payload status unclear)', 'Success (ground pad)')\n",
      "('31-01-2018', '21:25:00', 'F9 FT  B1032.2', 'CCAFS SLC-40', 'GovSat-1 / SES-16', 4230, 'GTO', 'SES', 'Success', 'Controlled (ocean)')\n",
      "('22-02-2018', '14:17:00', 'F9 FT  B1038.2', 'VAFB SLC-4E', 'Paz  Tintin A & B', 2150, 'SSO', 'Hisdesat exactEarth SpaceX', 'Success', 'No attempt')\n",
      "('06-03-2018', '05:33:00', 'F9 B4 B1044', 'CCAFS SLC-40', 'Hispasat 30W-6  PODSat', 6092, 'GTO', 'Hispasat  NovaWurks', 'Success', 'No attempt')\n",
      "('30-03-2018', '14:14:00', 'F9 B4  B1041.2', 'VAFB SLC-4E', 'Iridium NEXT 5', 9600, 'Polar LEO', 'Iridium Communications', 'Success', 'No attempt')\n",
      "('02-04-2018', '20:30:00', 'F9 B4  B1039.2', 'CCAFS SLC-40', 'SpaceX CRS-14', 2647, 'LEO (ISS)', 'NASA (CRS)', 'Success', 'No attempt')\n",
      "('18-04-2018', '22:51:00', 'F9 B4 B1045.1', 'CCAFS SLC-40', 'Transiting Exoplanet Survey Satellite (TESS)', 362, 'HEO', 'NASA (LSP)', 'Success', 'Success (drone ship)')\n",
      "('11-05-2018', '20:14:00', 'F9 B5  B1046.1', 'KSC LC-39A', 'Bangabandhu-1', 3600, 'GTO', 'Thales-Alenia/BTRC', 'Success', 'Success (drone ship)')\n",
      "('22-05-2018', '19:47:58', 'F9 B4  B1043.2', 'VAFB SLC-4E', 'Iridium NEXT 6   GRACE-FO 1, 2', 6460, 'Polar LEO', 'Iridium Communications GFZ ‚ NASA', 'Success', 'No attempt')\n",
      "('04-06-2018', '04:45:00', 'F9 B4  B1040.2', 'CCAFS SLC-40', 'SES-12', 5384, 'GTO', 'SES', 'Success', 'No attempt')\n",
      "('29-06-2018', '09:42:00', 'F9 B4 B1045.2', 'CCAFS SLC-40', 'SpaceX CRS-15', 2697, 'LEO (ISS)', 'NASA (CRS)', 'Success', 'No attempt')\n",
      "('22-07-2018', '05:50:00', 'F9 B5B1047.1', 'CCAFS SLC-40', 'Telstar 19V', 7075, 'GTO', 'Telesat', 'Success', 'Success')\n",
      "('25-07-2018', '11:39:00', 'F9 B5B1048.1', 'VAFB SLC-4E', 'Iridium NEXT-7', 9600, 'Polar LEO', 'Iridium Communications', 'Success', 'Success')\n",
      "('07-08-2018', '05:18:00', 'F9 B5 B1046.2', 'CCAFS SLC-40', 'Merah Putih ', 5800, 'GTO', 'Telkom Indonesia', 'Success', 'Success')\n",
      "('10-09-2018', '04:45:00', 'F9 B5B1049.1', 'CCAFS SLC-40', 'Telstar 18V / Apstar-5C', 7060, 'GTO', 'Telesat', 'Success', 'Success')\n",
      "('08-10-2018', '02:22:00', 'F9 B5 B1048.2', 'VAFB SLC-4E', 'SAOCOM 1A', 3000, 'SSO', 'CONAE', 'Success', 'Success')\n",
      "('15-11-2018', '20:46:00', 'F9 B5 B1047.2', 'KSC LC-39A', 'Es hail 2', 5300, 'GTO', 'Es hailSat', 'Success', 'Success')\n",
      "('03-12-2018', '18:34:05', 'F9 B5 B1046.3', 'VAFB SLC-4E', 'SSO-A ', 4000, 'SSO', 'Spaceflight Industries', 'Success', 'Success')\n",
      "('05-12-2018', '18:16:00', 'F9 B5B1050', 'CCAFS SLC-40', 'SpaceX CRS-16', 2500, 'LEO (ISS)', 'NASA (CRS)', 'Success', 'Failure')\n",
      "('23-12-2018', '13:51:00', 'F9 B5B1054', 'CCAFS SLC-40', 'GPS III-01 ', 4400, 'MEO', 'USAF', 'Success ', 'No attempt')\n",
      "('11-01-2019', '15:31:00', 'F9 B5 B1049.2', 'VAFB SLC-4E', 'Iridium NEXT-8', 9600, 'Polar LEO', 'Iridium Communications', 'Success', 'Success')\n",
      "('22-02-2019', '01:45:00', 'F9 B5 B1048.3', 'CCAFS SLC-40', 'Nusantara Satu, Beresheet Moon lander, S5', 4850, 'GTO', 'PSN, SpaceIL / IAI', 'Success', 'Success')\n",
      "('02-03-2019', '07:49:00', 'F9 B5B1051.1', 'KSC LC-39A', 'Crew Dragon Demo-1, SpaceX CRS-17 ', 12055, 'LEO (ISS)', 'NASA (CCD) ', 'Success', 'Success')\n",
      "('04-05-2019', '06:48:00', 'F9 B5B1056.1 ', 'CCAFS SLC-40', 'SpaceX CRS-17, Starlink v0.9', 2495, 'LEO (ISS)', 'NASA (CRS)', 'Success', 'Success')\n",
      "('24-05-2019', '02:30:00', 'F9 B5 B1049.3', 'CCAFS SLC-40', 'Starlink v0.9, RADARSAT Constellation', 13620, 'LEO', 'SpaceX', 'Success', 'Success')\n",
      "('12-06-2019', '14:17:00', 'F9 B5 B1051.2 ', 'VAFB SLC-4E', 'RADARSAT Constellation, SpaceX CRS-18 ', 4200, 'SSO', 'Canadian Space Agency (CSA)', 'Success', 'Success')\n",
      "('25-07-2019', '22:01:00', 'F9 B5 B1056.2 ', 'CCAFS SLC-40', 'SpaceX CRS-18, AMOS-17 ', 2268, 'LEO (ISS)', 'NASA (CRS)', 'Success', 'Success')\n",
      "('06-08-2019', '23:23:00', 'F9 B5 B1047.3 ', 'CCAFS SLC-40', 'AMOS-17, Starlink 1 v1.0 ', 6500, 'GTO', 'Spacecom', 'Success', 'No attempt ')\n",
      "('11-11-2019', '14:56:00', 'F9 B5 B1048.4', 'CCAFS SLC-40', 'Starlink 1 v1.0, SpaceX CRS-19 ', 15600, 'LEO', 'SpaceX', 'Success', 'Success')\n",
      "('05-12-2019', '17:29:00', 'F9 B5B1059.1', 'CCAFS SLC-40', 'SpaceX CRS-19, JCSat-18 / Kacific 1 ', 2617, 'LEO (ISS)', 'NASA (CRS), Kacific 1', 'Success', 'Success')\n",
      "('17-12-2019', '00:10:00', 'F9 B5 B1056.3 ', 'CCAFS SLC-40', 'JCSat-18 / Kacific 1, Starlink 2 v1.0 ', 6956, 'GTO', 'Sky Perfect JSAT, Kacific 1', 'Success', 'Success')\n",
      "('07-01-2020', '02:33:00', 'F9 B5 B1049.4', 'CCAFS SLC-40', 'Starlink 2 v1.0, Crew Dragon in-flight abort test ', 15600, 'LEO', 'SpaceX', 'Success', 'Success')\n",
      "('19-01-2020', '15:30:00', 'F9 B5 B1046.4', 'KSC LC-39A', 'Crew Dragon in-flight abort test, Starlink 3 v1.0 ', 12050, 'Sub-orbital', 'NASA (CTS)', 'Success', 'No attempt')\n",
      "('29-01-2020', '14:07:00', 'F9 B5 B1051.3', 'CCAFS SLC-40', 'Starlink 3 v1.0, Starlink 4 v1.0 ', 15600, 'LEO', 'SpaceX', 'Success', 'Success')\n",
      "('17-02-2020', '15:05:00', 'F9 B5 B1056.4', 'CCAFS SLC-40', 'Starlink 4 v1.0, SpaceX CRS-20', 15600, 'LEO', 'SpaceX', 'Success', 'Failure')\n",
      "('07-03-2020', '04:50:00', 'F9 B5 B1059.2', 'CCAFS SLC-40', 'SpaceX CRS-20, Starlink 5 v1.0 ', 1977, 'LEO (ISS)', 'NASA (CRS)', 'Success', 'Success')\n",
      "('18-03-2020', '12:16:00', 'F9 B5 B1048.5', 'KSC LC-39A', 'Starlink 5 v1.0, Starlink 6 v1.0 ', 15600, 'LEO', 'SpaceX', 'Success', 'Failure')\n",
      "('22-04-2020', '19:30:00', 'F9 B5 B1051.4', 'KSC LC-39A', 'Starlink 6 v1.0, Crew Dragon Demo-2 ', 15600, 'LEO', 'SpaceX', 'Success', 'Success')\n",
      "('30-05-2020', '19:22:00', 'F9 B5B1058.1 ', 'KSC LC-39A', 'Crew Dragon Demo-2, Starlink 7 v1.0 ', 12530, 'LEO (ISS)', 'NASA (CCDev)', 'Success', 'Success')\n",
      "('04-06-2020', '01:25:00', 'F9 B5 B1049.5', 'CCAFS SLC-40', 'Starlink 7 v1.0, Starlink 8 v1.0', 15600, 'LEO', 'SpaceX, Planet Labs', 'Success', 'Success')\n",
      "('13-06-2020', '09:21:00', 'F9 B5 B1059.3', 'CCAFS SLC-40', 'Starlink 8 v1.0, SkySats-16, -17, -18, GPS III-03 ', 15410, 'LEO', 'SpaceX, Planet Labs', 'Success', 'Success')\n",
      "('30-06-2020', '20:10:46', 'F9 B5B1060.1', 'CCAFS SLC-40', 'GPS III-03, ANASIS-II', 4311, 'MEO', 'U.S. Space Force', 'Success', 'Success')\n",
      "('20-07-2020', '21:30:00', 'F9 B5 B1058.2 ', 'CCAFS SLC-40', 'ANASIS-II, Starlink 9 v1.0', 5500, 'GTO', 'Republic of Korea Army, Spaceflight Industries (BlackSky)', 'Success', 'Success')\n",
      "('07-08-2020', '05:12:00', 'F9 B5 B1051.5', 'KSC LC-39A', 'Starlink 9 v1.0, SXRS-1, Starlink 10 v1.0 ', 14932, 'LEO', 'SpaceX, Spaceflight Industries (BlackSky), Planet Labs', 'Success', 'Success')\n",
      "('18-08-2020', '14:31:00', 'F9 B5 B1049.6', 'CCAFS SLC-40', 'Starlink 10 v1.0, SkySat-19, -20, -21, SAOCOM 1B ', 15440, 'LEO', 'SpaceX, Planet Labs, PlanetIQ', 'Success', 'Success')\n",
      "('30-08-2020', '23:18:00', 'F9 B5 B1059.4', 'CCAFS SLC-40', 'SAOCOM 1B, GNOMES 1, Tyvak-0172', 3130, 'SSO', 'CONAE, PlanetIQ, SpaceX', 'Success', 'Success')\n",
      "('03-09-2020', '12:46:14', 'F9 B5 B1060.2 ', 'KSC LC-39A', 'Starlink 11 v1.0, Starlink 12 v1.0 ', 15600, 'LEO', 'SpaceX', 'Success', 'Success')\n",
      "('06-10-2020', '11:29:34', 'F9 B5 B1058.3 ', 'KSC LC-39A', 'Starlink 12 v1.0, Starlink 13 v1.0 ', 15600, 'LEO', 'SpaceX', 'Success', 'Success')\n",
      "('18-10-2020', '12:25:57', 'F9 B5 B1051.6', 'KSC LC-39A', 'Starlink 13 v1.0, Starlink 14 v1.0 ', 15600, 'LEO', 'SpaceX', 'Success', 'Success')\n",
      "('24-10-2020', '15:31:34', 'F9 B5 B1060.3', 'CCAFS SLC-40', 'Starlink 14 v1.0, GPS III-04  ', 15600, 'LEO', 'SpaceX', 'Success', 'Success')\n",
      "('05-11-2020', '23:24:23', 'F9 B5B1062.1', 'CCAFS SLC-40', 'GPS III-04 , Crew-1', 4311, 'MEO', 'USSF', 'Success', 'Success')\n",
      "('16-11-2020', '00:27:00', 'F9 B5B1061.1 ', 'KSC LC-39A', 'Crew-1, Sentinel-6 Michael Freilich ', 12500, 'LEO (ISS)', 'NASA (CCP)', 'Success', 'Success')\n",
      "('21-11-2020', '17:17:08', 'F9 B5B1063.1', 'VAFB SLC-4E', 'Sentinel-6 Michael Freilich, Starlink 15 v1.0 ', 1192, 'LEO', 'NASA / NOAA / ESA / EUMETSAT', 'Success', 'Success')\n",
      "('25-11-2020', '02:13:00', 'F9 B5 B1049.7 ', 'CCAFS SLC-40', 'Starlink 15 v1.0, SpaceX CRS-21', 15600, 'LEO', 'SpaceX', 'Success', 'Success')\n",
      "('06-12-2020', '16:17:08', 'F9 B5 B1058.4 ', 'KSC LC-39A', 'SpaceX CRS-21', 2972, 'LEO (ISS)', 'NASA (CRS)', 'Success', 'Success')\n"
     ]
    }
   ],
   "source": [
    "for row in records:\n",
    "    print(row)"
   ]
  },
  {
   "cell_type": "markdown",
   "metadata": {},
   "source": [
    "## Overview of the DataSet\n",
    "\n",
    "SpaceX has gained worldwide attention for a series of historic milestones.\n",
    "\n",
    "It is the only private company ever to return a spacecraft from low-earth orbit, which it first accomplished in December 2010.\n",
    "SpaceX advertises Falcon 9 rocket launches on its website with a cost of 62 million dollars wheras other providers cost upward of 165 million dollars each, much of the savings is because Space X can reuse the first stage.\n",
    "\n",
    "Therefore if we can determine if the first stage will land, we can determine the cost of a launch.\n",
    "\n",
    "This information can be used if an alternate company wants to bid against SpaceX for a rocket launch.\n",
    "\n",
    "This dataset includes a record for each payload carried during a SpaceX mission into outer space.\n"
   ]
  },
  {
   "cell_type": "code",
   "execution_count": null,
   "metadata": {},
   "outputs": [],
   "source": []
  },
  {
   "cell_type": "markdown",
   "metadata": {},
   "source": [
    "### Download the datasets\n",
    "\n",
    "This assignment requires you to load the spacex dataset.\n",
    "\n",
    "In many cases the dataset to be analyzed is available as a .CSV (comma separated values) file, perhaps on the internet. Click on the link below to download and save the dataset (.CSV file):\n",
    "\n",
    "<a href=\"https://cf-courses-data.s3.us.cloud-object-storage.appdomain.cloud/IBM-DS0321EN-SkillsNetwork/labs/module_2/data/Spacex.csv?utm_medium=Exinfluencer&utm_source=Exinfluencer&utm_content=000026UJ&utm_term=10006555&utm_id=NA-SkillsNetwork-Channel-SkillsNetworkCoursesIBMDS0321ENSkillsNetwork26802033-2021-01-01\" target=\"_blank\">Spacex DataSet</a>\n"
   ]
  },
  {
   "cell_type": "markdown",
   "metadata": {},
   "source": [
    "### Store the dataset in database table\n",
    "\n",
    "**it is highly recommended to manually load the table using the database console LOAD tool in DB2**.\n",
    "\n",
    "<img src = \"https://cf-courses-data.s3.us.cloud-object-storage.appdomain.cloud/IBM-DS0321EN-SkillsNetwork/labs/module_2/images/spacexload.png\">\n",
    "\n",
    "Now open the Db2 console, open the LOAD tool, Select / Drag the .CSV file for the  dataset, Next create a New Table, and then follow the steps on-screen instructions to load the data. Name the new table as follows:\n",
    "\n",
    "**SPACEXDATASET**\n",
    "\n",
    "**Follow these steps while using old DB2 UI which is having Open Console Screen**\n",
    "\n",
    "**Note:While loading Spacex dataset, ensure that detect datatypes is disabled. Later click on the pencil icon(edit option).**\n",
    "\n",
    "1.  Change the Date Format by manually typing DD-MM-YYYY and timestamp format as DD-MM-YYYY HH\\:MM:SS.\n",
    "\n",
    "    Here you should place the cursor at Date field and manually type as DD-MM-YYYY.\n",
    "\n",
    "2.  Change the PAYLOAD_MASS\\_\\_KG\\_  datatype  to INTEGER.\n",
    "\n",
    "<img src = \"https://cf-courses-data.s3.us.cloud-object-storage.appdomain.cloud/IBM-DS0321EN-SkillsNetwork/labs/module_2/images/spacexload2.png\">\n"
   ]
  },
  {
   "cell_type": "markdown",
   "metadata": {},
   "source": [
    "**Changes to be considered when having DB2 instance with the new UI having Go to UI screen**\n",
    "\n",
    "*   Refer to this insruction in this <a href=\"https://cf-courses-data.s3.us.cloud-object-storage.appdomain.cloud/IBMDeveloperSkillsNetwork-DB0201EN-SkillsNetwork/labs/Labs_Coursera_V5/labs/Lab%20-%20Sign%20up%20for%20IBM%20Cloud%20-%20Create%20Db2%20service%20instance%20-%20Get%20started%20with%20the%20Db2%20console/instructional-labs.md.html?utm_medium=Exinfluencer&utm_source=Exinfluencer&utm_content=000026UJ&utm_term=10006555&utm_id=NA-SkillsNetwork-Channel-SkillsNetworkCoursesIBMDS0321ENSkillsNetwork26802033-2021-01-01\">link</a> for viewing  the new  Go to UI screen.\n",
    "\n",
    "*   Later click on **Data link(below SQL)**  in the Go to UI screen  and click on **Load Data** tab.\n",
    "\n",
    "*   Later browse for the downloaded spacex file.\n",
    "\n",
    "<img src=\"https://cf-courses-data.s3.us.cloud-object-storage.appdomain.cloud/IBM-DS0321EN-SkillsNetwork/labs/module_2/images/browsefile.png\" width=\"800\"/>\n",
    "\n",
    "*   Once done select the schema andload the file.\n",
    "\n",
    " <img src=\"https://cf-courses-data.s3.us.cloud-object-storage.appdomain.cloud/IBM-DS0321EN-SkillsNetwork/labs/module_2/images/spacexload3.png\" width=\"800\"/>\n"
   ]
  },
  {
   "cell_type": "code",
   "execution_count": 1,
   "metadata": {},
   "outputs": [
    {
     "name": "stdout",
     "output_type": "stream",
     "text": [
      "Defaulting to user installation because normal site-packages is not writeable\n",
      "Collecting sqlalchemy==1.3.9\n",
      "  Downloading SQLAlchemy-1.3.9.tar.gz (6.0 MB)\n",
      "     ---------------------------------------- 6.0/6.0 MB 2.1 MB/s eta 0:00:00\n",
      "  Preparing metadata (setup.py): started\n",
      "  Preparing metadata (setup.py): finished with status 'done'\n",
      "Building wheels for collected packages: sqlalchemy\n",
      "  Building wheel for sqlalchemy (setup.py): started\n",
      "  Building wheel for sqlalchemy (setup.py): finished with status 'done'\n",
      "  Created wheel for sqlalchemy: filename=SQLAlchemy-1.3.9-cp38-cp38-win_amd64.whl size=1154672 sha256=5cc74bab38e35d0fa248e5d6a631e4f3dc0aeb2228e32c4aefc00588c7054aaa\n",
      "  Stored in directory: c:\\users\\o5nuynn\\appdata\\local\\pip\\cache\\wheels\\cb\\43\\46\\fa638f2422554332b7865d600275b24568bf60e76104a94bb4\n",
      "Successfully built sqlalchemy\n",
      "Installing collected packages: sqlalchemy\n",
      "  Attempting uninstall: sqlalchemy\n",
      "    Found existing installation: SQLAlchemy 1.4.35\n",
      "    Uninstalling SQLAlchemy-1.4.35:\n",
      "      Successfully uninstalled SQLAlchemy-1.4.35\n",
      "Successfully installed sqlalchemy-1.3.9\n"
     ]
    },
    {
     "name": "stderr",
     "output_type": "stream",
     "text": [
      "WARNING: pip is being invoked by an old script wrapper. This will fail in a future version of pip.\n",
      "Please see https://github.com/pypa/pip/issues/5599 for advice on fixing the underlying issue.\n",
      "To avoid this problem you can invoke Python with '-m pip' instead of running pip directly.\n",
      "WARNING: Ignoring invalid distribution -illow (c:\\users\\o5nuynn\\appdata\\roaming\\python\\python38\\site-packages)\n",
      "WARNING: Ignoring invalid distribution -illow (c:\\users\\o5nuynn\\appdata\\roaming\\python\\python38\\site-packages)\n",
      "WARNING: Ignoring invalid distribution -illow (c:\\users\\o5nuynn\\appdata\\roaming\\python\\python38\\site-packages)\n",
      "    WARNING: Ignoring invalid distribution -illow (c:\\users\\o5nuynn\\appdata\\roaming\\python\\python38\\site-packages)\n",
      "WARNING: Ignoring invalid distribution -illow (c:\\users\\o5nuynn\\appdata\\roaming\\python\\python38\\site-packages)\n",
      "WARNING: Ignoring invalid distribution -illow (c:\\users\\o5nuynn\\appdata\\roaming\\python\\python38\\site-packages)\n",
      "WARNING: Ignoring invalid distribution -illow (c:\\users\\o5nuynn\\appdata\\roaming\\python\\python38\\site-packages)\n"
     ]
    },
    {
     "name": "stdout",
     "output_type": "stream",
     "text": [
      "Defaulting to user installation because normal site-packages is not writeable"
     ]
    },
    {
     "name": "stderr",
     "output_type": "stream",
     "text": [
      "WARNING: pip is being invoked by an old script wrapper. This will fail in a future version of pip.\n",
      "Please see https://github.com/pypa/pip/issues/5599 for advice on fixing the underlying issue.\n",
      "To avoid this problem you can invoke Python with '-m pip' instead of running pip directly.\n",
      "WARNING: Ignoring invalid distribution -illow (c:\\users\\o5nuynn\\appdata\\roaming\\python\\python38\\site-packages)\n",
      "WARNING: Ignoring invalid distribution -illow (c:\\users\\o5nuynn\\appdata\\roaming\\python\\python38\\site-packages)\n",
      "WARNING: Ignoring invalid distribution -illow (c:\\users\\o5nuynn\\appdata\\roaming\\python\\python38\\site-packages)\n"
     ]
    },
    {
     "name": "stdout",
     "output_type": "stream",
     "text": [
      "\n",
      "Collecting ibm_db_sa\n",
      "  Downloading ibm_db_sa-0.3.7.tar.gz (30 kB)\n",
      "  Preparing metadata (setup.py): started\n",
      "  Preparing metadata (setup.py): finished with status 'done'\n",
      "Requirement already satisfied: sqlalchemy>=0.7.3 in c:\\users\\o5nuynn\\appdata\\roaming\\python\\python38\\site-packages (from ibm_db_sa) (1.3.9)\n",
      "Collecting ibm_db>=2.0.0\n",
      "  Downloading ibm_db-3.1.1.tar.gz (1.1 MB)\n",
      "     ---------------------------------------- 1.1/1.1 MB 2.2 MB/s eta 0:00:00\n",
      "  Installing build dependencies: started\n",
      "  Installing build dependencies: finished with status 'done'\n",
      "  Getting requirements to build wheel: started\n",
      "  Getting requirements to build wheel: finished with status 'done'\n",
      "  Installing backend dependencies: started\n",
      "  Installing backend dependencies: finished with status 'done'\n",
      "  Preparing metadata (pyproject.toml): started\n",
      "  Preparing metadata (pyproject.toml): finished with status 'done'\n",
      "Building wheels for collected packages: ibm_db_sa, ibm_db\n",
      "  Building wheel for ibm_db_sa (setup.py): started\n",
      "  Building wheel for ibm_db_sa (setup.py): finished with status 'done'\n",
      "  Created wheel for ibm_db_sa: filename=ibm_db_sa-0.3.7-py3-none-any.whl size=29302 sha256=0c12a14ec81116ae72624cf2670b1e00a7ed2b93140338e24b5b244090a6a03c\n",
      "  Stored in directory: c:\\users\\o5nuynn\\appdata\\local\\pip\\cache\\wheels\\56\\a8\\bf\\19bbcc1d370b4fdc46c95228b6db3cdb5689b4afad12da3bc4\n",
      "  Building wheel for ibm_db (pyproject.toml): started\n",
      "  Building wheel for ibm_db (pyproject.toml): finished with status 'done'\n",
      "  Created wheel for ibm_db: filename=ibm_db-3.1.1-py3-none-any.whl size=29943074 sha256=5af478b511125ea2607a81a780be67d763a2e87d8d6ec14ba3c6e3bab0499e66\n",
      "  Stored in directory: c:\\users\\o5nuynn\\appdata\\local\\pip\\cache\\wheels\\79\\ca\\5a\\0aa8ee4ff812a4d3b02f09150732219e5fccbf03a84005b99c\n",
      "Successfully built ibm_db_sa ibm_db\n",
      "Installing collected packages: ibm_db, ibm_db_sa\n",
      "Successfully installed ibm_db-3.1.1 ibm_db_sa-0.3.7\n"
     ]
    },
    {
     "name": "stderr",
     "output_type": "stream",
     "text": [
      "WARNING: Ignoring invalid distribution -illow (c:\\users\\o5nuynn\\appdata\\roaming\\python\\python38\\site-packages)\n",
      "WARNING: Ignoring invalid distribution -illow (c:\\users\\o5nuynn\\appdata\\roaming\\python\\python38\\site-packages)\n",
      "WARNING: Ignoring invalid distribution -illow (c:\\users\\o5nuynn\\appdata\\roaming\\python\\python38\\site-packages)\n",
      "WARNING: Ignoring invalid distribution -illow (c:\\users\\o5nuynn\\appdata\\roaming\\python\\python38\\site-packages)\n"
     ]
    },
    {
     "name": "stdout",
     "output_type": "stream",
     "text": [
      "Defaulting to user installation because normal site-packages is not writeable\n",
      "Requirement already satisfied: ipython-sql in c:\\users\\o5nuynn\\appdata\\roaming\\python\\python38\\site-packages (0.4.0)\n",
      "Requirement already satisfied: prettytable<1 in c:\\users\\o5nuynn\\appdata\\roaming\\python\\python38\\site-packages (from ipython-sql) (0.7.2)\n",
      "Requirement already satisfied: ipython-genutils>=0.1.0 in c:\\users\\o5nuynn\\appdata\\roaming\\python\\python38\\site-packages (from ipython-sql) (0.2.0)\n",
      "Requirement already satisfied: sqlalchemy>=0.6.7 in c:\\users\\o5nuynn\\appdata\\roaming\\python\\python38\\site-packages (from ipython-sql) (1.3.9)\n",
      "Requirement already satisfied: six in c:\\users\\o5nuynn\\appdata\\roaming\\python\\python38\\site-packages (from ipython-sql) (1.15.0)\n",
      "Requirement already satisfied: ipython>=1.0 in c:\\users\\o5nuynn\\appdata\\roaming\\python\\python38\\site-packages (from ipython-sql) (7.22.0)\n",
      "Requirement already satisfied: sqlparse in c:\\users\\o5nuynn\\appdata\\roaming\\python\\python38\\site-packages (from ipython-sql) (0.4.2)\n",
      "Requirement already satisfied: traitlets>=4.2 in c:\\users\\o5nuynn\\appdata\\roaming\\python\\python38\\site-packages (from ipython>=1.0->ipython-sql) (5.0.5)\n",
      "Requirement already satisfied: setuptools>=18.5 in c:\\users\\o5nuynn\\appdata\\roaming\\python\\python38\\site-packages (from ipython>=1.0->ipython-sql) (56.0.0)\n",
      "Requirement already satisfied: pygments in c:\\users\\o5nuynn\\appdata\\roaming\\python\\python38\\site-packages (from ipython>=1.0->ipython-sql) (2.8.1)\n",
      "Requirement already satisfied: decorator in c:\\users\\o5nuynn\\appdata\\roaming\\python\\python38\\site-packages (from ipython>=1.0->ipython-sql) (5.0.7)\n",
      "Requirement already satisfied: jedi>=0.16 in c:\\users\\o5nuynn\\appdata\\roaming\\python\\python38\\site-packages (from ipython>=1.0->ipython-sql) (0.18.0)\n",
      "Requirement already satisfied: prompt-toolkit!=3.0.0,!=3.0.1,<3.1.0,>=2.0.0 in c:\\users\\o5nuynn\\appdata\\roaming\\python\\python38\\site-packages (from ipython>=1.0->ipython-sql) (3.0.18)\n",
      "Requirement already satisfied: backcall in c:\\users\\o5nuynn\\appdata\\roaming\\python\\python38\\site-packages (from ipython>=1.0->ipython-sql) (0.2.0)\n",
      "Requirement already satisfied: pickleshare in c:\\users\\o5nuynn\\appdata\\roaming\\python\\python38\\site-packages (from ipython>=1.0->ipython-sql) (0.7.5)\n",
      "Requirement already satisfied: colorama in c:\\users\\o5nuynn\\appdata\\roaming\\python\\python38\\site-packages (from ipython>=1.0->ipython-sql) (0.4.4)\n",
      "Requirement already satisfied: parso<0.9.0,>=0.8.0 in c:\\users\\o5nuynn\\appdata\\roaming\\python\\python38\\site-packages (from jedi>=0.16->ipython>=1.0->ipython-sql) (0.8.2)\n",
      "Requirement already satisfied: wcwidth in c:\\users\\o5nuynn\\appdata\\roaming\\python\\python38\\site-packages (from prompt-toolkit!=3.0.0,!=3.0.1,<3.1.0,>=2.0.0->ipython>=1.0->ipython-sql) (0.2.5)\n"
     ]
    },
    {
     "name": "stderr",
     "output_type": "stream",
     "text": [
      "WARNING: pip is being invoked by an old script wrapper. This will fail in a future version of pip.\n",
      "Please see https://github.com/pypa/pip/issues/5599 for advice on fixing the underlying issue.\n",
      "To avoid this problem you can invoke Python with '-m pip' instead of running pip directly.\n",
      "WARNING: Ignoring invalid distribution -illow (c:\\users\\o5nuynn\\appdata\\roaming\\python\\python38\\site-packages)\n",
      "WARNING: Ignoring invalid distribution -illow (c:\\users\\o5nuynn\\appdata\\roaming\\python\\python38\\site-packages)\n",
      "WARNING: Ignoring invalid distribution -illow (c:\\users\\o5nuynn\\appdata\\roaming\\python\\python38\\site-packages)\n",
      "WARNING: Ignoring invalid distribution -illow (c:\\users\\o5nuynn\\appdata\\roaming\\python\\python38\\site-packages)\n",
      "WARNING: Ignoring invalid distribution -illow (c:\\users\\o5nuynn\\appdata\\roaming\\python\\python38\\site-packages)\n"
     ]
    }
   ],
   "source": [
    "!pip install sqlalchemy==1.3.9\n",
    "!pip install ibm_db_sa\n",
    "!pip install ipython-sql"
   ]
  },
  {
   "cell_type": "markdown",
   "metadata": {},
   "source": [
    "### Connect to the database\n",
    "\n",
    "Let us first load the SQL extension and establish a connection with the database\n"
   ]
  },
  {
   "cell_type": "code",
   "execution_count": 2,
   "metadata": {},
   "outputs": [],
   "source": [
    "%load_ext sql"
   ]
  },
  {
   "cell_type": "markdown",
   "metadata": {},
   "source": [
    "**DB2 magic in case of old UI service credentials.**\n",
    "\n",
    "In the next cell enter your db2 connection string. Recall you created Service Credentials for your Db2 instance before. From the **uri** field of your Db2 service credentials copy everything after db2:// (except the double quote at the end) and paste it in the cell below after ibm_db_sa://\n",
    "\n",
    "<img src =\"https://cf-courses-data.s3.us.cloud-object-storage.appdomain.cloud/IBMDeveloperSkillsNetwork-DB0201EN-SkillsNetwork/labs/FinalModule_edX/images/URI.jpg\">\n",
    "\n",
    "in the following format\n",
    "\n",
    "**%sql ibm_db_sa://my-username:my-password\\@my-hostname:my-port/my-db-name**\n",
    "\n",
    "**DB2 magic in case of new UI service credentials.**\n",
    "\n",
    "<img src =\"https://cf-courses-data.s3.us.cloud-object-storage.appdomain.cloud/IBM-DS0321EN-SkillsNetwork/labs/module_2/images/servicecredentials.png\" width=600>  \n",
    "\n",
    "*   Use the following format.\n",
    "\n",
    "*   Add security=SSL at the end\n",
    "\n",
    "**%sql ibm_db_sa://my-username:my-password\\@my-hostname:my-port/my-db-name?security=SSL**\n"
   ]
  },
  {
   "cell_type": "code",
   "execution_count": null,
   "metadata": {},
   "outputs": [],
   "source": []
  },
  {
   "cell_type": "code",
   "execution_count": null,
   "metadata": {},
   "outputs": [],
   "source": []
  },
  {
   "cell_type": "code",
   "execution_count": null,
   "metadata": {},
   "outputs": [],
   "source": [
    "%sql ibm_db_sa://"
   ]
  },
  {
   "cell_type": "markdown",
   "metadata": {},
   "source": [
    "## Tasks\n",
    "\n",
    "Now write and execute SQL queries to solve the assignment tasks.\n",
    "\n",
    "### Task 1\n",
    "\n",
    "##### Display the names of the unique launch sites  in the space mission\n"
   ]
  },
  {
   "cell_type": "code",
   "execution_count": 40,
   "metadata": {},
   "outputs": [
    {
     "name": "stdout",
     "output_type": "stream",
     "text": [
      "('CCAFS LC-40',)\n",
      "('VAFB SLC-4E',)\n",
      "('KSC LC-39A',)\n",
      "('CCAFS SLC-40',)\n"
     ]
    }
   ],
   "source": [
    "cursor.execute('select distinct Launch_Site from SPACEXTBL')\n",
    "results = cursor.fetchall()\n",
    "for i in results:\n",
    "    print(i)\n",
    "#unique_launch = %sql SELECT Launch_Site from records\n",
    "#print(unique_launch)"
   ]
  },
  {
   "cell_type": "markdown",
   "metadata": {},
   "source": [
    "### Task 2\n",
    "\n",
    "##### Display 5 records where launch sites begin with the string 'CCA'\n"
   ]
  },
  {
   "cell_type": "code",
   "execution_count": 43,
   "metadata": {},
   "outputs": [
    {
     "name": "stdout",
     "output_type": "stream",
     "text": [
      "('CCAFS LC-40',)\n",
      "('CCAFS LC-40',)\n",
      "('CCAFS LC-40',)\n",
      "('CCAFS LC-40',)\n",
      "('CCAFS LC-40',)\n"
     ]
    }
   ],
   "source": [
    "cursor.execute('select Launch_Site from SPACEXTBL where Launch_Site like \"CCA%\" limit 5')\n",
    "results = cursor.fetchall()\n",
    "for i in results:\n",
    "    print(i)"
   ]
  },
  {
   "cell_type": "markdown",
   "metadata": {},
   "source": [
    "### Task 3\n",
    "\n",
    "##### Display the total payload mass carried by boosters launched by NASA (CRS)\n"
   ]
  },
  {
   "cell_type": "code",
   "execution_count": 47,
   "metadata": {},
   "outputs": [
    {
     "name": "stdout",
     "output_type": "stream",
     "text": [
      "(48213,)\n"
     ]
    }
   ],
   "source": [
    "cursor.execute('select sum(PAYLOAD_MASS__KG_) from SPACEXTBL where Customer like \"%CRS%\"')\n",
    "results = cursor.fetchall()\n",
    "for i in results:\n",
    "    print(i)"
   ]
  },
  {
   "cell_type": "markdown",
   "metadata": {},
   "source": [
    "### Task 4\n",
    "\n",
    "##### Display average payload mass carried by booster version F9 v1.1\n"
   ]
  },
  {
   "cell_type": "code",
   "execution_count": 49,
   "metadata": {},
   "outputs": [
    {
     "name": "stdout",
     "output_type": "stream",
     "text": [
      "(2295.8571428571427,)\n"
     ]
    }
   ],
   "source": [
    "cursor.execute('select avg(PAYLOAD_MASS__KG_) from SPACEXTBL where Customer like \"%CRS%\"')\n",
    "results = cursor.fetchall()\n",
    "for i in results:\n",
    "    print(i)"
   ]
  },
  {
   "cell_type": "markdown",
   "metadata": {},
   "source": [
    "### Task 5\n",
    "\n",
    "##### List the date when the first successful landing outcome in ground pad was acheived.\n",
    "\n",
    "*Hint:Use min function*\n"
   ]
  },
  {
   "cell_type": "code",
   "execution_count": 13,
   "metadata": {},
   "outputs": [
    {
     "name": "stdout",
     "output_type": "stream",
     "text": [
      "('22-12-2015',)\n",
      "('18-07-2016',)\n",
      "('19-02-2017',)\n",
      "('01-05-2017',)\n",
      "('03-06-2017',)\n",
      "('14-08-2017',)\n",
      "('07-09-2017',)\n",
      "('15-12-2017',)\n",
      "('08-01-2018',)\n"
     ]
    }
   ],
   "source": [
    "cursor.execute('select min(Date) from SPACEXTBL where \"Landing _Outcome\" like \"Success (ground pad)\"')\n",
    "results = cursor.fetchall()\n",
    "for i in results:\n",
    "    print(i)"
   ]
  },
  {
   "cell_type": "markdown",
   "metadata": {},
   "source": [
    "### Task 6\n",
    "\n",
    "##### List the names of the boosters which have success in drone ship and have payload mass greater than 4000 but less than 6000\n"
   ]
  },
  {
   "cell_type": "code",
   "execution_count": 65,
   "metadata": {},
   "outputs": [
    {
     "name": "stdout",
     "output_type": "stream",
     "text": [
      "('F9 FT B1022',)\n",
      "('F9 FT B1026',)\n",
      "('F9 FT  B1021.2',)\n",
      "('F9 FT  B1031.2',)\n"
     ]
    }
   ],
   "source": [
    "cursor.execute('select Booster_Version from SPACEXTBL where \"Landing _Outcome\" like \"Success (drone ship)\" and PAYLOAD_MASS__KG_ > 4000 AND PAYLOAD_MASS__KG_ < 6000')\n",
    "results = cursor.fetchall()\n",
    "for i in results:\n",
    "    print(i)"
   ]
  },
  {
   "cell_type": "markdown",
   "metadata": {},
   "source": [
    "### Task 7\n",
    "\n",
    "##### List the total number of successful and failure mission outcomes\n"
   ]
  },
  {
   "cell_type": "code",
   "execution_count": 73,
   "metadata": {},
   "outputs": [
    {
     "name": "stdout",
     "output_type": "stream",
     "text": [
      "('Failure (in flight)', 1)\n",
      "('Success', 98)\n",
      "('Success ', 1)\n",
      "('Success (payload status unclear)', 1)\n"
     ]
    }
   ],
   "source": [
    "cursor.execute('select Mission_Outcome, count(Mission_Outcome) from SPACEXTBL group by Mission_Outcome ')\n",
    "results = cursor.fetchall()\n",
    "for i in results:\n",
    "    print(i)"
   ]
  },
  {
   "cell_type": "code",
   "execution_count": null,
   "metadata": {},
   "outputs": [],
   "source": []
  },
  {
   "cell_type": "markdown",
   "metadata": {},
   "source": [
    "### Task 8\n",
    "\n",
    "##### List the   names of the booster_versions which have carried the maximum payload mass. Use a subquery\n"
   ]
  },
  {
   "cell_type": "code",
   "execution_count": 19,
   "metadata": {},
   "outputs": [
    {
     "name": "stdout",
     "output_type": "stream",
     "text": [
      "('F9 v1.0  B0003', 15600)\n",
      "('F9 v1.0  B0004', 15600)\n",
      "('F9 v1.0  B0005', 15600)\n",
      "('F9 v1.0  B0006', 15600)\n",
      "('F9 v1.0  B0007', 15600)\n",
      "('F9 v1.1  B1003', 15600)\n",
      "('F9 v1.1', 15600)\n",
      "('F9 v1.1 B1011', 15600)\n",
      "('F9 v1.1 B1010', 15600)\n",
      "('F9 v1.1 B1012', 15600)\n",
      "('F9 v1.1 B1013', 15600)\n",
      "('F9 v1.1 B1014', 15600)\n",
      "('F9 v1.1 B1015', 15600)\n",
      "('F9 v1.1 B1016', 15600)\n",
      "('F9 v1.1 B1018', 15600)\n",
      "('F9 FT B1019', 15600)\n",
      "('F9 v1.1 B1017', 15600)\n",
      "('F9 FT B1020', 15600)\n",
      "('F9 FT B1021.1', 15600)\n",
      "('F9 FT B1022', 15600)\n",
      "('F9 FT B1023.1', 15600)\n",
      "('F9 FT B1024', 15600)\n",
      "('F9 FT B1025.1', 15600)\n",
      "('F9 FT B1026', 15600)\n",
      "('F9 FT B1029.1', 15600)\n",
      "('F9 FT B1031.1', 15600)\n",
      "('F9 FT B1030', 15600)\n",
      "('F9 FT  B1021.2', 15600)\n",
      "('F9 FT B1032.1', 15600)\n",
      "('F9 FT B1034', 15600)\n",
      "('F9 FT B1035.1', 15600)\n",
      "('F9 FT  B1029.2', 15600)\n",
      "('F9 FT B1036.1', 15600)\n",
      "('F9 FT B1037', 15600)\n",
      "('F9 B4 B1039.1', 15600)\n",
      "('F9 FT B1038.1', 15600)\n",
      "('F9 B4 B1040.1', 15600)\n",
      "('F9 B4 B1041.1', 15600)\n",
      "('F9 FT  B1031.2', 15600)\n",
      "('F9 B4 B1042.1', 15600)\n",
      "('F9 FT  B1035.2', 15600)\n",
      "('F9 FT  B1036.2', 15600)\n",
      "('F9 B4 B1043.1', 15600)\n",
      "('F9 FT  B1032.2', 15600)\n",
      "('F9 FT  B1038.2', 15600)\n",
      "('F9 B4 B1044', 15600)\n",
      "('F9 B4  B1041.2', 15600)\n",
      "('F9 B4  B1039.2', 15600)\n",
      "('F9 B4 B1045.1', 15600)\n",
      "('F9 B5  B1046.1', 15600)\n",
      "('F9 B4  B1043.2', 15600)\n",
      "('F9 B4  B1040.2', 15600)\n",
      "('F9 B4 B1045.2', 15600)\n",
      "('F9 B5B1047.1', 15600)\n",
      "('F9 B5B1048.1', 15600)\n",
      "('F9 B5 B1046.2', 15600)\n",
      "('F9 B5B1049.1', 15600)\n",
      "('F9 B5 B1048.2', 15600)\n",
      "('F9 B5 B1047.2', 15600)\n",
      "('F9 B5 B1046.3', 15600)\n",
      "('F9 B5B1050', 15600)\n",
      "('F9 B5B1054', 15600)\n",
      "('F9 B5 B1049.2', 15600)\n",
      "('F9 B5 B1048.3', 15600)\n",
      "('F9 B5B1051.1', 15600)\n",
      "('F9 B5B1056.1 ', 15600)\n",
      "('F9 B5 B1049.3', 15600)\n",
      "('F9 B5 B1051.2 ', 15600)\n",
      "('F9 B5 B1056.2 ', 15600)\n",
      "('F9 B5 B1047.3 ', 15600)\n",
      "('F9 B5 B1048.4', 15600)\n",
      "('F9 B5B1059.1', 15600)\n",
      "('F9 B5 B1056.3 ', 15600)\n",
      "('F9 B5 B1049.4', 15600)\n",
      "('F9 B5 B1046.4', 15600)\n",
      "('F9 B5 B1051.3', 15600)\n",
      "('F9 B5 B1056.4', 15600)\n",
      "('F9 B5 B1059.2', 15600)\n",
      "('F9 B5 B1048.5', 15600)\n",
      "('F9 B5 B1051.4', 15600)\n",
      "('F9 B5B1058.1 ', 15600)\n",
      "('F9 B5 B1049.5', 15600)\n",
      "('F9 B5 B1059.3', 15600)\n",
      "('F9 B5B1060.1', 15600)\n",
      "('F9 B5 B1058.2 ', 15600)\n",
      "('F9 B5 B1051.5', 15600)\n",
      "('F9 B5 B1049.6', 15600)\n",
      "('F9 B5 B1059.4', 15600)\n",
      "('F9 B5 B1060.2 ', 15600)\n",
      "('F9 B5 B1058.3 ', 15600)\n",
      "('F9 B5 B1051.6', 15600)\n",
      "('F9 B5 B1060.3', 15600)\n",
      "('F9 B5B1062.1', 15600)\n",
      "('F9 B5B1061.1 ', 15600)\n",
      "('F9 B5B1063.1', 15600)\n",
      "('F9 B5 B1049.7 ', 15600)\n",
      "('F9 B5 B1058.4 ', 15600)\n",
      "[('F9 v1.0  B0003', 15600), ('F9 v1.0  B0004', 15600), ('F9 v1.0  B0005', 15600), ('F9 v1.0  B0006', 15600), ('F9 v1.0  B0007', 15600), ('F9 v1.1  B1003', 15600), ('F9 v1.1', 15600), ('F9 v1.1 B1011', 15600), ('F9 v1.1 B1010', 15600), ('F9 v1.1 B1012', 15600), ('F9 v1.1 B1013', 15600), ('F9 v1.1 B1014', 15600), ('F9 v1.1 B1015', 15600), ('F9 v1.1 B1016', 15600), ('F9 v1.1 B1018', 15600), ('F9 FT B1019', 15600), ('F9 v1.1 B1017', 15600), ('F9 FT B1020', 15600), ('F9 FT B1021.1', 15600), ('F9 FT B1022', 15600), ('F9 FT B1023.1', 15600), ('F9 FT B1024', 15600), ('F9 FT B1025.1', 15600), ('F9 FT B1026', 15600), ('F9 FT B1029.1', 15600), ('F9 FT B1031.1', 15600), ('F9 FT B1030', 15600), ('F9 FT  B1021.2', 15600), ('F9 FT B1032.1', 15600), ('F9 FT B1034', 15600), ('F9 FT B1035.1', 15600), ('F9 FT  B1029.2', 15600), ('F9 FT B1036.1', 15600), ('F9 FT B1037', 15600), ('F9 B4 B1039.1', 15600), ('F9 FT B1038.1', 15600), ('F9 B4 B1040.1', 15600), ('F9 B4 B1041.1', 15600), ('F9 FT  B1031.2', 15600), ('F9 B4 B1042.1', 15600), ('F9 FT  B1035.2', 15600), ('F9 FT  B1036.2', 15600), ('F9 B4 B1043.1', 15600), ('F9 FT  B1032.2', 15600), ('F9 FT  B1038.2', 15600), ('F9 B4 B1044', 15600), ('F9 B4  B1041.2', 15600), ('F9 B4  B1039.2', 15600), ('F9 B4 B1045.1', 15600), ('F9 B5  B1046.1', 15600), ('F9 B4  B1043.2', 15600), ('F9 B4  B1040.2', 15600), ('F9 B4 B1045.2', 15600), ('F9 B5B1047.1', 15600), ('F9 B5B1048.1', 15600), ('F9 B5 B1046.2', 15600), ('F9 B5B1049.1', 15600), ('F9 B5 B1048.2', 15600), ('F9 B5 B1047.2', 15600), ('F9 B5 B1046.3', 15600), ('F9 B5B1050', 15600), ('F9 B5B1054', 15600), ('F9 B5 B1049.2', 15600), ('F9 B5 B1048.3', 15600), ('F9 B5B1051.1', 15600), ('F9 B5B1056.1 ', 15600), ('F9 B5 B1049.3', 15600), ('F9 B5 B1051.2 ', 15600), ('F9 B5 B1056.2 ', 15600), ('F9 B5 B1047.3 ', 15600), ('F9 B5 B1048.4', 15600), ('F9 B5B1059.1', 15600), ('F9 B5 B1056.3 ', 15600), ('F9 B5 B1049.4', 15600), ('F9 B5 B1046.4', 15600), ('F9 B5 B1051.3', 15600), ('F9 B5 B1056.4', 15600), ('F9 B5 B1059.2', 15600), ('F9 B5 B1048.5', 15600), ('F9 B5 B1051.4', 15600), ('F9 B5B1058.1 ', 15600), ('F9 B5 B1049.5', 15600), ('F9 B5 B1059.3', 15600), ('F9 B5B1060.1', 15600), ('F9 B5 B1058.2 ', 15600), ('F9 B5 B1051.5', 15600), ('F9 B5 B1049.6', 15600), ('F9 B5 B1059.4', 15600), ('F9 B5 B1060.2 ', 15600), ('F9 B5 B1058.3 ', 15600), ('F9 B5 B1051.6', 15600), ('F9 B5 B1060.3', 15600), ('F9 B5B1062.1', 15600), ('F9 B5B1061.1 ', 15600), ('F9 B5B1063.1', 15600), ('F9 B5 B1049.7 ', 15600), ('F9 B5 B1058.4 ', 15600)]\n"
     ]
    }
   ],
   "source": [
    "cursor.execute('select distinct Booster_Version, (select max(PAYLOAD_MASS__KG_) from SPACEXTBL) from SPACEXTBL')\n",
    "results = cursor.fetchall()\n",
    "for i in results:\n",
    "    print(i)\n",
    "print(results)"
   ]
  },
  {
   "cell_type": "markdown",
   "metadata": {},
   "source": [
    "### Task 9\n",
    "\n",
    "##### List the failed landing_outcomes in drone ship, their booster versions, and launch site names for in year 2015\n"
   ]
  },
  {
   "cell_type": "code",
   "execution_count": 78,
   "metadata": {},
   "outputs": [
    {
     "name": "stdout",
     "output_type": "stream",
     "text": [
      "('F9 v1.1 B1012', 'CCAFS LC-40')\n",
      "('F9 v1.1 B1015', 'CCAFS LC-40')\n"
     ]
    }
   ],
   "source": [
    "cursor.execute('select Booster_Version, Launch_Site from SPACEXTBL where \"Landing _Outcome\" like \"Failure (drone ship)\" and Date like \"%2015\"')\n",
    "results = cursor.fetchall()\n",
    "for i in results:\n",
    "    print(i)"
   ]
  },
  {
   "cell_type": "markdown",
   "metadata": {
    "tags": []
   },
   "source": [
    "### Task 10\n",
    "\n",
    "##### Rank the count of landing outcomes (such as Failure (drone ship) or Success (ground pad)) between the date 2010-06-04 and 2017-03-20, in descending order\n"
   ]
  },
  {
   "cell_type": "code",
   "execution_count": 41,
   "metadata": {},
   "outputs": [
    {
     "name": "stdout",
     "output_type": "stream",
     "text": [
      "('Failure (parachute)',)\n",
      "('Failure (parachute)',)\n",
      "('No attempt',)\n",
      "('No attempt',)\n",
      "('No attempt',)\n",
      "('Uncontrolled (ocean)',)\n",
      "('No attempt',)\n",
      "('No attempt',)\n",
      "('Controlled (ocean)',)\n",
      "('Controlled (ocean)',)\n",
      "('No attempt',)\n",
      "('No attempt',)\n",
      "('Uncontrolled (ocean)',)\n",
      "('Failure (drone ship)',)\n",
      "('Controlled (ocean)',)\n",
      "('No attempt',)\n",
      "('Failure (drone ship)',)\n",
      "('No attempt',)\n",
      "('Precluded (drone ship)',)\n",
      "('Success (ground pad)',)\n",
      "('Failure (drone ship)',)\n",
      "('Failure (drone ship)',)\n",
      "('Success (drone ship)',)\n",
      "('Success (drone ship)',)\n",
      "('Success (drone ship)',)\n",
      "('Failure (drone ship)',)\n",
      "('Success (ground pad)',)\n",
      "('Success (drone ship)',)\n",
      "('Success (drone ship)',)\n",
      "('Success (ground pad)',)\n",
      "('No attempt',)\n",
      "('Success (drone ship)',)\n",
      "('Success (ground pad)',)\n",
      "('No attempt',)\n",
      "('Success (ground pad)',)\n",
      "('Success (drone ship)',)\n",
      "('Success (drone ship)',)\n",
      "('No attempt',)\n",
      "('Success (ground pad)',)\n",
      "('Success (drone ship)',)\n",
      "('Success (ground pad)',)\n",
      "('Success (drone ship)',)\n",
      "('Success (drone ship)',)\n",
      "('Success (drone ship)',)\n",
      "('Success (ground pad)',)\n",
      "('Controlled (ocean)',)\n",
      "('Success (ground pad)',)\n",
      "('Controlled (ocean)',)\n",
      "('No attempt',)\n",
      "('No attempt',)\n",
      "('No attempt',)\n",
      "('No attempt',)\n",
      "('Success (drone ship)',)\n",
      "('Success (drone ship)',)\n",
      "('No attempt',)\n",
      "('No attempt',)\n",
      "('No attempt',)\n",
      "('Success',)\n",
      "('Success',)\n",
      "('Success',)\n",
      "('Success',)\n",
      "('Success',)\n",
      "('Success',)\n",
      "('Success',)\n",
      "('Failure',)\n",
      "('No attempt',)\n",
      "('Success',)\n",
      "('Success',)\n",
      "('Success',)\n",
      "('Success',)\n",
      "('Success',)\n",
      "('Success',)\n",
      "('Success',)\n",
      "('No attempt ',)\n",
      "('Success',)\n",
      "('Success',)\n",
      "('Success',)\n",
      "('Success',)\n",
      "('No attempt',)\n",
      "('Success',)\n",
      "('Failure',)\n",
      "('Success',)\n",
      "('Failure',)\n",
      "('Success',)\n",
      "('Success',)\n",
      "('Success',)\n",
      "('Success',)\n",
      "('Success',)\n",
      "('Success',)\n",
      "('Success',)\n",
      "('Success',)\n",
      "('Success',)\n",
      "('Success',)\n",
      "('Success',)\n",
      "('Success',)\n",
      "('Success',)\n",
      "('Success',)\n",
      "('Success',)\n",
      "('Success',)\n",
      "('Success',)\n",
      "('Success',)\n"
     ]
    }
   ],
   "source": [
    "cursor.execute('select \"Landing _Outcome\" from SPACEXTBL ')\n",
    "results = cursor.fetchall()\n",
    "for i in results:\n",
    "    print(i)"
   ]
  },
  {
   "cell_type": "code",
   "execution_count": 63,
   "metadata": {},
   "outputs": [
    {
     "name": "stdout",
     "output_type": "stream",
     "text": [
      "('Success', 20)\n",
      "('No attempt', 10)\n",
      "('Success (drone ship)', 8)\n",
      "('Success (ground pad)', 6)\n",
      "('Failure (drone ship)', 4)\n",
      "('Controlled (ocean)', 3)\n",
      "('Failure', 3)\n",
      "('Failure (parachute)', 1)\n",
      "('No attempt ', 1)\n"
     ]
    }
   ],
   "source": [
    "cursor.execute('select \"Landing _Outcome\",count( \"Landing _Outcome\" )from SPACEXTBL where Date >\"04-06-2010\" and Date < \"20-03-2017\" group by \"Landing _Outcome\" order by count(\"Landing _Outcome\") desc')\n",
    "results = cursor.fetchall()\n",
    "for i in results:\n",
    "    print(i)\n",
    "    "
   ]
  },
  {
   "cell_type": "markdown",
   "metadata": {},
   "source": [
    "### Reference Links\n",
    "\n",
    "*   <a href =\"https://cf-courses-data.s3.us.cloud-object-storage.appdomain.cloud/IBMDeveloperSkillsNetwork-DB0201EN-SkillsNetwork/labs/Labs_Coursera_V5/labs/Lab%20-%20String%20Patterns%20-%20Sorting%20-%20Grouping/instructional-labs.md.html?utm_medium=Exinfluencer&utm_source=Exinfluencer&utm_content=000026UJ&utm_term=10006555&utm_id=NA-SkillsNetwork-Channel-SkillsNetworkCoursesIBMDS0321ENSkillsNetwork26802033-2021-01-01&origin=www.coursera.org\">Hands-on Lab : String Patterns, Sorting and Grouping</a>\n",
    "\n",
    "*   <a  href=\"https://cf-courses-data.s3.us.cloud-object-storage.appdomain.cloud/IBMDeveloperSkillsNetwork-DB0201EN-SkillsNetwork/labs/Labs_Coursera_V5/labs/Lab%20-%20Built-in%20functions%20/Hands-on_Lab__Built-in_Functions.md.html?utm_medium=Exinfluencer&utm_source=Exinfluencer&utm_content=000026UJ&utm_term=10006555&utm_id=NA-SkillsNetwork-Channel-SkillsNetworkCoursesIBMDS0321ENSkillsNetwork26802033-2021-01-01&origin=www.coursera.org\">Hands-on Lab: Built-in functions</a>\n",
    "\n",
    "*   <a  href=\"https://cf-courses-data.s3.us.cloud-object-storage.appdomain.cloud/IBMDeveloperSkillsNetwork-DB0201EN-SkillsNetwork/labs/Labs_Coursera_V5/labs/Lab%20-%20Sub-queries%20and%20Nested%20SELECTs%20/instructional-labs.md.html?utm_medium=Exinfluencer&utm_source=Exinfluencer&utm_content=000026UJ&utm_term=10006555&utm_id=NA-SkillsNetwork-Channel-SkillsNetworkCoursesIBMDS0321ENSkillsNetwork26802033-2021-01-01&origin=www.coursera.org\">Hands-on Lab : Sub-queries and Nested SELECT Statements</a>\n",
    "\n",
    "*   <a href=\"https://cf-courses-data.s3.us.cloud-object-storage.appdomain.cloud/IBMDeveloperSkillsNetwork-DB0201EN-SkillsNetwork/labs/Module%205/DB0201EN-Week3-1-3-SQLmagic.ipynb?utm_medium=Exinfluencer&utm_source=Exinfluencer&utm_content=000026UJ&utm_term=10006555&utm_id=NA-SkillsNetwork-Channel-SkillsNetworkCoursesIBMDS0321ENSkillsNetwork26802033-2021-01-01\">Hands-on Tutorial: Accessing Databases with SQL magic</a>\n",
    "\n",
    "*   <a href= \"https://cf-courses-data.s3.us.cloud-object-storage.appdomain.cloud/IBMDeveloperSkillsNetwork-DB0201EN-SkillsNetwork/labs/Module%205/DB0201EN-Week3-1-4-Analyzing.ipynb?utm_medium=Exinfluencer&utm_source=Exinfluencer&utm_content=000026UJ&utm_term=10006555&utm_id=NA-SkillsNetwork-Channel-SkillsNetworkCoursesIBMDS0321ENSkillsNetwork26802033-2021-01-01\">Hands-on Lab: Analyzing a real World Data Set</a>\n"
   ]
  },
  {
   "cell_type": "markdown",
   "metadata": {},
   "source": [
    "## Author(s)\n",
    "\n",
    "<h4> Lakshmi Holla </h4>\n"
   ]
  },
  {
   "cell_type": "markdown",
   "metadata": {},
   "source": [
    "## Other Contributors\n",
    "\n",
    "<h4> Rav Ahuja </h4>\n"
   ]
  },
  {
   "cell_type": "markdown",
   "metadata": {},
   "source": [
    "## Change log\n",
    "\n",
    "| Date       | Version | Changed by    | Change Description        |\n",
    "| ---------- | ------- | ------------- | ------------------------- |\n",
    "| 2021-10-12 | 0.4     | Lakshmi Holla | Changed markdown          |\n",
    "| 2021-08-24 | 0.3     | Lakshmi Holla | Added library update      |\n",
    "| 2021-07-09 | 0.2     | Lakshmi Holla | Changes made in magic sql |\n",
    "| 2021-05-20 | 0.1     | Lakshmi Holla | Created Initial Version   |\n"
   ]
  },
  {
   "cell_type": "markdown",
   "metadata": {},
   "source": [
    "## <h3 align=\"center\"> © IBM Corporation 2021. All rights reserved. <h3/>\n"
   ]
  }
 ],
 "metadata": {
  "kernelspec": {
   "display_name": "Python 3",
   "language": "python",
   "name": "python3"
  },
  "language_info": {
   "codemirror_mode": {
    "name": "ipython",
    "version": 3
   },
   "file_extension": ".py",
   "mimetype": "text/x-python",
   "name": "python",
   "nbconvert_exporter": "python",
   "pygments_lexer": "ipython3",
   "version": "3.8.2"
  }
 },
 "nbformat": 4,
 "nbformat_minor": 4
}
